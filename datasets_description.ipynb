{
 "cells": [
  {
   "cell_type": "markdown",
   "metadata": {},
   "source": [
    "## The Pl@ntNet Trusted dataset"
   ]
  },
  {
   "cell_type": "code",
   "execution_count": 21,
   "metadata": {},
   "outputs": [],
   "source": [
    "import os\n",
    "import pandas as pd\n",
    "import numpy as np\n",
    "pd.options.display.max_columns=10"
   ]
  },
  {
   "cell_type": "code",
   "execution_count": 26,
   "metadata": {},
   "outputs": [
    {
     "name": "stdout",
     "output_type": "stream",
     "text": [
      "237087 examples in the dataset\n",
      "1364 number of species\n",
      "\n",
      "84524 entries observed at interfering locations\n"
     ]
    },
    {
     "data": {
      "text/html": [
       "<div>\n",
       "<style scoped>\n",
       "    .dataframe tbody tr th:only-of-type {\n",
       "        vertical-align: middle;\n",
       "    }\n",
       "\n",
       "    .dataframe tbody tr th {\n",
       "        vertical-align: top;\n",
       "    }\n",
       "\n",
       "    .dataframe thead th {\n",
       "        text-align: right;\n",
       "    }\n",
       "</style>\n",
       "<table border=\"1\" class=\"dataframe\">\n",
       "  <thead>\n",
       "    <tr style=\"text-align: right;\">\n",
       "      <th></th>\n",
       "      <th>Longitude</th>\n",
       "      <th>Latitude</th>\n",
       "      <th>glc19SpId</th>\n",
       "    </tr>\n",
       "  </thead>\n",
       "  <tbody>\n",
       "    <tr>\n",
       "      <th>1</th>\n",
       "      <td>-0.592500</td>\n",
       "      <td>45.10639</td>\n",
       "      <td>31997</td>\n",
       "    </tr>\n",
       "    <tr>\n",
       "      <th>4</th>\n",
       "      <td>2.343150</td>\n",
       "      <td>48.87488</td>\n",
       "      <td>33228</td>\n",
       "    </tr>\n",
       "    <tr>\n",
       "      <th>7</th>\n",
       "      <td>4.827180</td>\n",
       "      <td>45.77687</td>\n",
       "      <td>32127</td>\n",
       "    </tr>\n",
       "    <tr>\n",
       "      <th>8</th>\n",
       "      <td>6.225866</td>\n",
       "      <td>44.08693</td>\n",
       "      <td>30207</td>\n",
       "    </tr>\n",
       "    <tr>\n",
       "      <th>9</th>\n",
       "      <td>-1.738766</td>\n",
       "      <td>46.47871</td>\n",
       "      <td>32236</td>\n",
       "    </tr>\n",
       "  </tbody>\n",
       "</table>\n",
       "</div>"
      ],
      "text/plain": [
       "   Longitude  Latitude  glc19SpId\n",
       "1  -0.592500  45.10639      31997\n",
       "4   2.343150  48.87488      33228\n",
       "7   4.827180  45.77687      32127\n",
       "8   6.225866  44.08693      30207\n",
       "9  -1.738766  46.47871      32236"
      ]
     },
     "metadata": {},
     "output_type": "display_data"
    }
   ],
   "source": [
    "from IPython.display import display\n",
    "\n",
    "# random seed for reproducibility\n",
    "np.random.seed(42)\n",
    "\n",
    "# working on a subset of Pl@ntNet Trusted: 2500 occurrences\n",
    "df = pd.read_csv('../data/occurrences/PL_trusted.csv',\n",
    "                 sep=';', header='infer', quotechar='\"', low_memory=True)\n",
    "\n",
    "df = df[['Longitude','Latitude','glc19SpId']].dropna(axis=0,how='all').astype({'glc19SpId':'int64'})\n",
    "target_df = df['glc19SpId']\n",
    "print(len(df), 'examples in the dataset')\n",
    "print(len(target_df.unique()), 'number of species\\n')\n",
    "\n",
    "duplicated_df = df[df.duplicated(subset=['Latitude','Longitude'],keep=False)]\n",
    "print(f'{len(duplicated_df)} entries observed at interfering locations')\n",
    "display(duplicated_df.head(5))"
   ]
  },
  {
   "cell_type": "markdown",
   "metadata": {},
   "source": [
    "PlantNet Trusted contient 237,087 occurrences, 1364 classes, et 84,524 points superposés (36%)."
   ]
  },
  {
   "cell_type": "markdown",
   "metadata": {},
   "source": [
    "## The PlantNet Complete dataset"
   ]
  },
  {
   "cell_type": "code",
   "execution_count": 27,
   "metadata": {},
   "outputs": [
    {
     "name": "stdout",
     "output_type": "stream",
     "text": [
      "2377610 examples in the dataset\n",
      "3906 number of species\n",
      "\n",
      "1056501 entries observed at interfering locations :\n"
     ]
    },
    {
     "data": {
      "text/html": [
       "<div>\n",
       "<style scoped>\n",
       "    .dataframe tbody tr th:only-of-type {\n",
       "        vertical-align: middle;\n",
       "    }\n",
       "\n",
       "    .dataframe tbody tr th {\n",
       "        vertical-align: top;\n",
       "    }\n",
       "\n",
       "    .dataframe thead th {\n",
       "        text-align: right;\n",
       "    }\n",
       "</style>\n",
       "<table border=\"1\" class=\"dataframe\">\n",
       "  <thead>\n",
       "    <tr style=\"text-align: right;\">\n",
       "      <th></th>\n",
       "      <th>Longitude</th>\n",
       "      <th>Latitude</th>\n",
       "      <th>glc19SpId</th>\n",
       "      <th>scName</th>\n",
       "    </tr>\n",
       "  </thead>\n",
       "  <tbody>\n",
       "    <tr>\n",
       "      <th>1</th>\n",
       "      <td>-0.900372</td>\n",
       "      <td>46.10539</td>\n",
       "      <td>30504</td>\n",
       "      <td>Cercis siliquastrum L.</td>\n",
       "    </tr>\n",
       "    <tr>\n",
       "      <th>3</th>\n",
       "      <td>7.090430</td>\n",
       "      <td>47.75413</td>\n",
       "      <td>30721</td>\n",
       "      <td>Capsella bursa-pastoris (L.) Medik.</td>\n",
       "    </tr>\n",
       "    <tr>\n",
       "      <th>4</th>\n",
       "      <td>6.241667</td>\n",
       "      <td>43.11694</td>\n",
       "      <td>30747</td>\n",
       "      <td>Pancratium maritimum L.</td>\n",
       "    </tr>\n",
       "    <tr>\n",
       "      <th>6</th>\n",
       "      <td>4.997221</td>\n",
       "      <td>43.51215</td>\n",
       "      <td>32383</td>\n",
       "      <td>Aloe vera (L.) Burm.f.</td>\n",
       "    </tr>\n",
       "    <tr>\n",
       "      <th>8</th>\n",
       "      <td>-2.854644</td>\n",
       "      <td>47.56847</td>\n",
       "      <td>30582</td>\n",
       "      <td>Erigeron karvinskianus DC.</td>\n",
       "    </tr>\n",
       "  </tbody>\n",
       "</table>\n",
       "</div>"
      ],
      "text/plain": [
       "   Longitude  Latitude  glc19SpId                               scName\n",
       "1  -0.900372  46.10539      30504               Cercis siliquastrum L.\n",
       "3   7.090430  47.75413      30721  Capsella bursa-pastoris (L.) Medik.\n",
       "4   6.241667  43.11694      30747              Pancratium maritimum L.\n",
       "6   4.997221  43.51215      32383               Aloe vera (L.) Burm.f.\n",
       "8  -2.854644  47.56847      30582           Erigeron karvinskianus DC."
      ]
     },
     "metadata": {},
     "output_type": "display_data"
    }
   ],
   "source": [
    "from IPython.display import display\n",
    "\n",
    "# random seed for reproducibility\n",
    "np.random.seed(42)\n",
    "\n",
    "# working on a subset of Pl@ntNet Trusted: 2500 occurrences\n",
    "df = pd.read_csv('../data/occurrences/PL_complete.csv',\n",
    "                 sep=';', header='infer', quotechar='\"', low_memory=True)\n",
    "\n",
    "df = df[['Longitude','Latitude','glc19SpId','scName']]\n",
    "df = df.dropna(axis=0, how='all') #drop nan lines\n",
    "df = df.astype({'glc19SpId': 'int64'})\n",
    "# target pandas series of the species identifiers (there are 505 labels)\n",
    "target_df = df['glc19SpId']\n",
    "print(len(df), 'examples in the dataset')\n",
    "print(len(target_df.unique()), 'number of species\\n')\n",
    "\n",
    "duplicated_df = df[df.duplicated(subset=['Latitude','Longitude'],keep=False)]\n",
    "print(f'{len(duplicated_df)} entries observed at interfering locations :')\n",
    "display(duplicated_df.head(5))"
   ]
  },
  {
   "cell_type": "markdown",
   "metadata": {},
   "source": [
    "PlantNet Complete contient 2,377,610 occurrences, 3906 classes, et 1,056,501 points superposés (44%)."
   ]
  },
  {
   "cell_type": "code",
   "execution_count": 33,
   "metadata": {},
   "outputs": [
    {
     "name": "stdout",
     "output_type": "stream",
     "text": [
      "281952 examples in the dataset\n",
      "3231 number of species\n",
      "\n",
      "229255 entries observed at interfering locations\n"
     ]
    },
    {
     "data": {
      "text/html": [
       "<div>\n",
       "<style scoped>\n",
       "    .dataframe tbody tr th:only-of-type {\n",
       "        vertical-align: middle;\n",
       "    }\n",
       "\n",
       "    .dataframe tbody tr th {\n",
       "        vertical-align: top;\n",
       "    }\n",
       "\n",
       "    .dataframe thead th {\n",
       "        text-align: right;\n",
       "    }\n",
       "</style>\n",
       "<table border=\"1\" class=\"dataframe\">\n",
       "  <thead>\n",
       "    <tr style=\"text-align: right;\">\n",
       "      <th></th>\n",
       "      <th>Longitude</th>\n",
       "      <th>Latitude</th>\n",
       "      <th>glc19SpId</th>\n",
       "    </tr>\n",
       "  </thead>\n",
       "  <tbody>\n",
       "    <tr>\n",
       "      <th>0</th>\n",
       "      <td>2.726700</td>\n",
       "      <td>47.833880</td>\n",
       "      <td>29976</td>\n",
       "    </tr>\n",
       "    <tr>\n",
       "      <th>1</th>\n",
       "      <td>7.136150</td>\n",
       "      <td>47.950330</td>\n",
       "      <td>30115</td>\n",
       "    </tr>\n",
       "    <tr>\n",
       "      <th>2</th>\n",
       "      <td>3.559700</td>\n",
       "      <td>45.632510</td>\n",
       "      <td>30102</td>\n",
       "    </tr>\n",
       "    <tr>\n",
       "      <th>3</th>\n",
       "      <td>6.391726</td>\n",
       "      <td>49.415718</td>\n",
       "      <td>30378</td>\n",
       "    </tr>\n",
       "    <tr>\n",
       "      <th>4</th>\n",
       "      <td>7.537994</td>\n",
       "      <td>47.623173</td>\n",
       "      <td>30830</td>\n",
       "    </tr>\n",
       "  </tbody>\n",
       "</table>\n",
       "</div>"
      ],
      "text/plain": [
       "   Longitude   Latitude  glc19SpId\n",
       "0   2.726700  47.833880      29976\n",
       "1   7.136150  47.950330      30115\n",
       "2   3.559700  45.632510      30102\n",
       "3   6.391726  49.415718      30378\n",
       "4   7.537994  47.623173      30830"
      ]
     },
     "metadata": {},
     "output_type": "display_data"
    }
   ],
   "source": [
    "from IPython.display import display\n",
    "\n",
    "# random seed for reproducibility\n",
    "np.random.seed(42)\n",
    "\n",
    "# working on a subset of Pl@ntNet Trusted: 2500 occurrences\n",
    "df = pd.read_csv('../data/occurrences/GLC_2018.csv',\n",
    "                 sep=';', header='infer', quotechar='\"', low_memory=True)\n",
    "\n",
    "df = df[['Longitude','Latitude','glc19SpId']].dropna(axis=0,how='all').astype({'glc19SpId':'int64'})\n",
    "target_df = df['glc19SpId']\n",
    "print(len(df), 'examples in the dataset')\n",
    "print(len(target_df.unique()), 'number of species\\n')\n",
    "\n",
    "duplicated_df = df[df.duplicated(subset=['Latitude','Longitude'],keep=False)]\n",
    "print(f'{len(duplicated_df)} entries observed at interfering locations')\n",
    "display(duplicated_df.head(5))"
   ]
  },
  {
   "cell_type": "markdown",
   "metadata": {},
   "source": [
    "GLC 2018 contient 281,952 occurrences, 3231 classes, et 229,255 points superposés (81%)."
   ]
  },
  {
   "cell_type": "markdown",
   "metadata": {},
   "source": [
    "## Species taxonomic names"
   ]
  },
  {
   "cell_type": "code",
   "execution_count": 32,
   "metadata": {},
   "outputs": [
    {
     "data": {
      "text/html": [
       "<div>\n",
       "<style scoped>\n",
       "    .dataframe tbody tr th:only-of-type {\n",
       "        vertical-align: middle;\n",
       "    }\n",
       "\n",
       "    .dataframe tbody tr th {\n",
       "        vertical-align: top;\n",
       "    }\n",
       "\n",
       "    .dataframe thead th {\n",
       "        text-align: right;\n",
       "    }\n",
       "</style>\n",
       "<table border=\"1\" class=\"dataframe\">\n",
       "  <thead>\n",
       "    <tr style=\"text-align: right;\">\n",
       "      <th></th>\n",
       "      <th>taxaName</th>\n",
       "      <th>glc19SpId</th>\n",
       "      <th>test</th>\n",
       "    </tr>\n",
       "  </thead>\n",
       "  <tbody>\n",
       "    <tr>\n",
       "      <th>4711</th>\n",
       "      <td>Arrhenia obscurata (D.A.Reid) Redhead, Lutzoni...</td>\n",
       "      <td>4712</td>\n",
       "      <td>False</td>\n",
       "    </tr>\n",
       "    <tr>\n",
       "      <th>29190</th>\n",
       "      <td>Anacampsis temerella (Lienig &amp; Zeller, 1846)</td>\n",
       "      <td>29191</td>\n",
       "      <td>False</td>\n",
       "    </tr>\n",
       "    <tr>\n",
       "      <th>9781</th>\n",
       "      <td>Plagiodera versicolora (Laicharting, 1781)</td>\n",
       "      <td>9782</td>\n",
       "      <td>False</td>\n",
       "    </tr>\n",
       "    <tr>\n",
       "      <th>18684</th>\n",
       "      <td>Hellinsia tephradactyla (Hubner, 1813)</td>\n",
       "      <td>18685</td>\n",
       "      <td>False</td>\n",
       "    </tr>\n",
       "    <tr>\n",
       "      <th>12263</th>\n",
       "      <td>Cryptarcha strigata (Fabricius, 1787)</td>\n",
       "      <td>12264</td>\n",
       "      <td>False</td>\n",
       "    </tr>\n",
       "  </tbody>\n",
       "</table>\n",
       "</div>"
      ],
      "text/plain": [
       "                                                taxaName  glc19SpId   test\n",
       "4711   Arrhenia obscurata (D.A.Reid) Redhead, Lutzoni...       4712  False\n",
       "29190       Anacampsis temerella (Lienig & Zeller, 1846)      29191  False\n",
       "9781          Plagiodera versicolora (Laicharting, 1781)       9782  False\n",
       "18684             Hellinsia tephradactyla (Hubner, 1813)      18685  False\n",
       "12263              Cryptarcha strigata (Fabricius, 1787)      12264  False"
      ]
     },
     "metadata": {},
     "output_type": "display_data"
    }
   ],
   "source": [
    "# correspondence table between ids and the species taxonomic names\n",
    "# (Taxref names with year of discoverie)\n",
    "taxonomic_names = pd.read_csv('../data/occurrences/taxaName_glc19SpId.csv',\n",
    "                              sep=';',header='infer', quotechar='\"',low_memory=True)\n",
    "display(taxonomic_names.sample(5))"
   ]
  },
  {
   "cell_type": "markdown",
   "metadata": {},
   "source": [
    "34,719 classes qui peuvent apparraître au total ( mais meme sur l'ensemble des datasets ça fait bcp moins)."
   ]
  }
 ],
 "metadata": {
  "kernelspec": {
   "display_name": "Python 3",
   "language": "python",
   "name": "python3"
  },
  "language_info": {
   "codemirror_mode": {
    "name": "ipython",
    "version": 3
   },
   "file_extension": ".py",
   "mimetype": "text/x-python",
   "name": "python",
   "nbconvert_exporter": "python",
   "pygments_lexer": "ipython3",
   "version": "3.6.8"
  }
 },
 "nbformat": 4,
 "nbformat_minor": 2
}
